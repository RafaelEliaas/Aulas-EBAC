{
 "cells": [
  {
   "cell_type": "markdown",
   "metadata": {},
   "source": [
    "Script para extrair taxa CDI do site da B3"
   ]
  },
  {
   "cell_type": "code",
   "execution_count": 8,
   "metadata": {},
   "outputs": [
    {
     "name": "stdout",
     "output_type": "stream",
     "text": [
      "Sucesso\n"
     ]
    }
   ],
   "source": [
    "import os\n",
    "import json\n",
    "from datetime import datetime\n",
    "\n",
    "import requests\n",
    "\n",
    "URL = 'https://www2.cetip.com.br/ConsultarTaxaDi/ConsultarTaxaDICetip.aspx'\n",
    "\n",
    "#criando a variável Data e Hora\n",
    "\n",
    "data_e_hora = datetime.now()\n",
    "data = datetime.strftime(data_e_hora, '%Y/%m/%d')\n",
    "hora = datetime.strftime(data_e_hora, '%H/%M/%S')\n",
    "\n",
    "#Captando a taxa CDI do site da B3\n",
    "\n",
    "try:\n",
    "    response = requests.get(URL)\n",
    "    response.raise_for_status()\n",
    "except requests.HTTPError as exc:\n",
    "    print('Dado não encontrado, continuando.')\n",
    "    cdi = None\n",
    "except Exception as exc:\n",
    "    print ('Erro, parando a execução.')\n",
    "    raise exc\n",
    "else:\n",
    "    dado = json.loads(response.text)\n",
    "    cdi = float(dado['taxa'].replace(',','.'))\n",
    "    \n",
    "#Verificando se o arquivo \"taxa-cdi.csv\" existe\n",
    " \n",
    "if os.path.exists('./taxa-cdi.csv') == False:\n",
    "\n",
    "    with open(file='./taxa-cdi.csv', mode='w', encoding='utf8') as fp:\n",
    "        fp.write('Data,Hora,Taxa\\n')\n",
    "        \n",
    "#Salando dados do arquivo \"./taxa-cdi.csv\"\n",
    "\n",
    "with open(file='./taxa-cdi.csv', mode='a', encoding='utf8') as fp:\n",
    "    fp.write(f'{data},{hora},{cdi}\\n')\n",
    "    \n",
    "print('Sucesso')             "
   ]
  },
  {
   "cell_type": "markdown",
   "metadata": {},
   "source": [
    "Vamos criar um arquivo script extrair-cdi.py"
   ]
  },
  {
   "cell_type": "code",
   "execution_count": 10,
   "metadata": {},
   "outputs": [
    {
     "name": "stdout",
     "output_type": "stream",
     "text": [
      "Sucesso\n"
     ]
    }
   ],
   "source": [
    "!python extrair-cdi.py"
   ]
  },
  {
   "cell_type": "markdown",
   "metadata": {},
   "source": [
    "Script para gerar um gráfico da taxa CDI"
   ]
  },
  {
   "cell_type": "code",
   "execution_count": null,
   "metadata": {},
   "outputs": [],
   "source": [
    "import csv\n",
    "from sys import argv\n",
    "\n",
    "import seaborn as sns\n",
    "\n",
    "#extraindo as colunas hora e taxa\n",
    "\n",
    "horas = []\n",
    "taxas = []\n",
    "\n",
    "with open(file='./taxa-cdi.csv', mode='r', encoding='utf8') as fp:\n",
    "    linha = fp.readline()\n",
    "    linha = fp.readline()\n",
    "    while linha:\n",
    "        linha_separada = linha.split(sep=',')\n",
    "        hora = linha_separada[1]\n",
    "        horas.append(hora)\n",
    "        taxa = float(linha_separada[2])\n",
    "        taxas.append(taxa)\n",
    "        linha = fp.readline()\n",
    "#Salvando no Gráfico\n",
    "\n",
    "grafico = sns.lineplot(x=horas, y=taxas)\n",
    "grafico.get_figure().savefig(f\"{argv[1]}.png\")"
   ]
  },
  {
   "cell_type": "markdown",
   "metadata": {},
   "source": [
    "Criar o arquivo script cdi-grafico.py"
   ]
  },
  {
   "cell_type": "code",
   "execution_count": 15,
   "metadata": {},
   "outputs": [],
   "source": [
    "!python cdi-grafico.py dia-13"
   ]
  }
 ],
 "metadata": {
  "kernelspec": {
   "display_name": "Python 3",
   "language": "python",
   "name": "python3"
  },
  "language_info": {
   "codemirror_mode": {
    "name": "ipython",
    "version": 3
   },
   "file_extension": ".py",
   "mimetype": "text/x-python",
   "name": "python",
   "nbconvert_exporter": "python",
   "pygments_lexer": "ipython3",
   "version": "3.12.3"
  }
 },
 "nbformat": 4,
 "nbformat_minor": 2
}
