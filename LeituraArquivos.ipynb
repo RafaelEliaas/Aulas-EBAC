{
 "cells": [
  {
   "cell_type": "markdown",
   "metadata": {},
   "source": [
    "Criando um arquivo csv para os estudos de leitura de arquivos"
   ]
  },
  {
   "cell_type": "code",
   "execution_count": 6,
   "metadata": {},
   "outputs": [],
   "source": [
    "import csv\n",
    "\n",
    "with open ('banco.csv', 'w', newline='') as csvfile:\n",
    "    fieldnames = ['age','job','marital','education','default','balance','housing','loan'] \n",
    "    writer = csv.DictWriter(csvfile, fieldnames=fieldnames)\n",
    "    \n",
    "    writer.writeheader()\n",
    "    writer.writerow({'age': '30', 'job': 'unemployed', 'marital': 'married', 'education': 'primary', 'default': 'no', 'balance': '1787','housing': 'no', 'loan': 'no'})\n",
    "    writer.writerow({'age': '33', 'job': 'services', 'marital': 'married', 'education': 'secondary', 'default': 'no', 'balance': '4789','housing': 'yes', 'loan': 'yes'})\n",
    "    writer.writerow({'age': '35', 'job': 'management', 'marital': 'single', 'education': 'tertiary', 'default': 'no', 'balance': '1350','housing': 'yes', 'loan': 'no'})\n",
    "    writer.writerow({'age': '30', 'job': 'management', 'marital': 'married', 'education': 'tertiary', 'default': 'no', 'balance': '1476','housing': 'yes', 'loan': 'yes'})\n",
    "    writer.writerow({'age': '59', 'job': 'blue-collar', 'marital': 'married', 'education': 'secondary', 'default': 'no', 'balance': '0','housing': 'yes', 'loan': 'no'})\n",
    "    writer.writerow({'age': '35', 'job': 'management', 'marital': 'single', 'education': 'tertiary', 'default': 'no', 'balance': '747','housing': 'no', 'loan': 'no'})\n",
    "    writer.writerow({'age': '36', 'job': 'self-employed', 'marital': 'married', 'education': 'tertiary', 'default': 'no', 'balance': '307','housing': 'yes', 'loan': 'no'})\n",
    "    writer.writerow({'age': '39', 'job': 'technician', 'marital': 'married', 'education': 'secondary', 'default': 'no', 'balance': '147','housing': 'yes', 'loan': 'no'})\n",
    "    writer.writerow({'age': '41', 'job': 'entrepreneur', 'marital': 'married', 'education': 'tertiary', 'default': 'no', 'balance': '221','housing': 'yes', 'loan': 'no'})\n",
    "    writer.writerow({'age': '43', 'job': 'services', 'marital': 'married', 'education': 'primary', 'default': 'no', 'balance': '-88','housing': 'yes', 'loan': 'yes'})\n",
    "   \n",
    "    "
   ]
  },
  {
   "cell_type": "markdown",
   "metadata": {},
   "source": [
    "Comando para ler todo o conteudo do arquivo :"
   ]
  },
  {
   "cell_type": "code",
   "execution_count": 7,
   "metadata": {},
   "outputs": [
    {
     "name": "stdout",
     "output_type": "stream",
     "text": [
      "age,job,marital,education,default,balance,housing,loan\n",
      "30,unemployed,married,primary,no,1787,no,no\n",
      "33,services,married,secondary,no,4789,yes,yes\n",
      "35,management,single,tertiary,no,1350,yes,no\n",
      "30,management,married,tertiary,no,1476,yes,yes\n",
      "59,blue-collar,married,secondary,no,0,yes,no\n",
      "35,management,single,tertiary,no,747,no,no\n",
      "36,self-employed,married,tertiary,no,307,yes,no\n",
      "39,technician,married,secondary,no,147,yes,no\n",
      "41,entrepreneur,married,tertiary,no,221,yes,no\n",
      "43,services,married,primary,no,-88,yes,yes\n",
      "\n"
     ]
    }
   ],
   "source": [
    "conteudo = None\n",
    "with open (file='./banco.csv', mode='r', encoding='utf8') as arquivo:\n",
    "    conteudo = arquivo.read()\n",
    "\n",
    "print (conteudo)    "
   ]
  },
  {
   "cell_type": "markdown",
   "metadata": {},
   "source": [
    "Comando para ler o conteudo linha por linha:"
   ]
  },
  {
   "cell_type": "code",
   "execution_count": 8,
   "metadata": {},
   "outputs": [
    {
     "name": "stdout",
     "output_type": "stream",
     "text": [
      "['age,job,marital,education,default,balance,housing,loan\\n', '30,unemployed,married,primary,no,1787,no,no\\n', '33,services,married,secondary,no,4789,yes,yes\\n', '35,management,single,tertiary,no,1350,yes,no\\n', '30,management,married,tertiary,no,1476,yes,yes\\n', '59,blue-collar,married,secondary,no,0,yes,no\\n', '35,management,single,tertiary,no,747,no,no\\n', '36,self-employed,married,tertiary,no,307,yes,no\\n', '39,technician,married,secondary,no,147,yes,no\\n', '41,entrepreneur,married,tertiary,no,221,yes,no\\n', '43,services,married,primary,no,-88,yes,yes\\n']\n"
     ]
    }
   ],
   "source": [
    "conteudo = []\n",
    "\n",
    "with open (file='./banco.csv', mode='r', encoding='utf8') as arquivo:\n",
    "    linha = arquivo.readline() #lê a primeira linha\n",
    "    while linha:\n",
    "        conteudo.append(linha)\n",
    "        linha = arquivo.readline() #lê uma nova linha, se a linha não existir, salva o valor None\n",
    "        \n",
    "print (conteudo)\n"
   ]
  },
  {
   "cell_type": "markdown",
   "metadata": {},
   "source": [
    "para ver a tabela de forma mais organizada utilize o comando de repetição 'for':"
   ]
  },
  {
   "cell_type": "code",
   "execution_count": 9,
   "metadata": {},
   "outputs": [
    {
     "name": "stdout",
     "output_type": "stream",
     "text": [
      "age,job,marital,education,default,balance,housing,loan\n",
      "\n",
      "30,unemployed,married,primary,no,1787,no,no\n",
      "\n",
      "33,services,married,secondary,no,4789,yes,yes\n",
      "\n",
      "35,management,single,tertiary,no,1350,yes,no\n",
      "\n",
      "30,management,married,tertiary,no,1476,yes,yes\n",
      "\n",
      "59,blue-collar,married,secondary,no,0,yes,no\n",
      "\n",
      "35,management,single,tertiary,no,747,no,no\n",
      "\n",
      "36,self-employed,married,tertiary,no,307,yes,no\n",
      "\n",
      "39,technician,married,secondary,no,147,yes,no\n",
      "\n",
      "41,entrepreneur,married,tertiary,no,221,yes,no\n",
      "\n",
      "43,services,married,primary,no,-88,yes,yes\n",
      "\n"
     ]
    }
   ],
   "source": [
    "for linha in conteudo:\n",
    "    print (linha)"
   ]
  },
  {
   "cell_type": "markdown",
   "metadata": {},
   "source": [
    "Extraindo valores da primeira coluna:"
   ]
  },
  {
   "cell_type": "code",
   "execution_count": 10,
   "metadata": {},
   "outputs": [
    {
     "name": "stdout",
     "output_type": "stream",
     "text": [
      "[30, 33, 35, 30, 59, 35, 36, 39, 41, 43]\n"
     ]
    }
   ],
   "source": [
    "idades = []\n",
    "\n",
    "with open (file='./banco.csv', mode='r', encoding='utf8') as arquivo:\n",
    "    linha = arquivo.readline() #lê o cabeçalho\n",
    "    linha = arquivo.readline() #lê a primeira linha\n",
    "    while linha:\n",
    "        linha_separada = linha.split(sep=',') #quebra a string nas virgulas e salva o resuldado em uma lista\n",
    "        idade = linha_separada[0] #seleciona o primeiro elemento da lista\n",
    "        idade = int(idade) #converte a idade de string para inteiro\n",
    "        idades.append(idade) #salva o valor em uma lista de idades\n",
    "        linha = arquivo.readline()\n",
    "       \n",
    "    print (idades)        \n",
    "        "
   ]
  }
 ],
 "metadata": {
  "kernelspec": {
   "display_name": "Python 3",
   "language": "python",
   "name": "python3"
  },
  "language_info": {
   "codemirror_mode": {
    "name": "ipython",
    "version": 3
   },
   "file_extension": ".py",
   "mimetype": "text/x-python",
   "name": "python",
   "nbconvert_exporter": "python",
   "pygments_lexer": "ipython3",
   "version": "3.12.2"
  }
 },
 "nbformat": 4,
 "nbformat_minor": 2
}
