{
 "cells": [
  {
   "cell_type": "markdown",
   "metadata": {},
   "source": [
    "Definição de Herança: Uma especialização da classe"
   ]
  },
  {
   "cell_type": "markdown",
   "metadata": {},
   "source": [
    "Repetindo Definição da classe pessoa:"
   ]
  },
  {
   "cell_type": "code",
   "execution_count": 1,
   "metadata": {},
   "outputs": [],
   "source": [
    "from time import sleep\n",
    "\n",
    "class Pessoas(object):\n",
    "    def __init__(self, nome:str,idade:int,documento:str = None):\n",
    "        self.nome = nome\n",
    "        self.idade = idade\n",
    "        self.documento = documento\n",
    "        \n",
    "def dormir (self,horas:int) -> None:\n",
    "    for hora in range (1,horas+1):\n",
    "        print(f'Dormindo por {hora} horas')\n",
    "        sleep(1)\n",
    "        \n",
    "def falar (self,texto:str) -> None:\n",
    "    print(texto)\n",
    "    \n",
    "def __str__(self) -> str:\n",
    "    return f'{self.nome}, {self.idade} anos e documento número {self.documento}'"
   ]
  },
  {
   "cell_type": "markdown",
   "metadata": {},
   "source": [
    "Criando classe universidade:"
   ]
  },
  {
   "cell_type": "code",
   "execution_count": 2,
   "metadata": {},
   "outputs": [],
   "source": [
    "class Universidade(object):\n",
    "    \n",
    "    def __init__(self, nome:str):\n",
    "        self.nome = nome"
   ]
  },
  {
   "cell_type": "markdown",
   "metadata": {},
   "source": [
    "Especializando aa classe pessoa na classe estudande"
   ]
  },
  {
   "cell_type": "code",
   "execution_count": 8,
   "metadata": {},
   "outputs": [],
   "source": [
    "class Estudante(Pessoas):\n",
    "    def __init__(self, nome:str, idade:int, documento:str, universidade:Universidade):\n",
    "        super().__init__(nome = nome, idade=idade, documento=documento)\n",
    "        self.universidade = universidade "
   ]
  },
  {
   "cell_type": "markdown",
   "metadata": {},
   "source": [
    "Manipulação:"
   ]
  },
  {
   "cell_type": "code",
   "execution_count": 6,
   "metadata": {},
   "outputs": [],
   "source": [
    "usp =Universidade(nome='Universidade de São Paulo')\n",
    "rafael = Estudante(nome='Rafael Utsunomiya Elias', idade=24, documento='123', universidade=usp)"
   ]
  },
  {
   "cell_type": "code",
   "execution_count": 9,
   "metadata": {},
   "outputs": [
    {
     "name": "stdout",
     "output_type": "stream",
     "text": [
      "<__main__.Estudante object at 0x000001C50F86A2A0>\n"
     ]
    }
   ],
   "source": [
    "print (rafael)"
   ]
  },
  {
   "cell_type": "code",
   "execution_count": null,
   "metadata": {},
   "outputs": [],
   "source": [
    "print()"
   ]
  }
 ],
 "metadata": {
  "kernelspec": {
   "display_name": "Python 3",
   "language": "python",
   "name": "python3"
  },
  "language_info": {
   "codemirror_mode": {
    "name": "ipython",
    "version": 3
   },
   "file_extension": ".py",
   "mimetype": "text/x-python",
   "name": "python",
   "nbconvert_exporter": "python",
   "pygments_lexer": "ipython3",
   "version": "3.12.2"
  }
 },
 "nbformat": 4,
 "nbformat_minor": 2
}
