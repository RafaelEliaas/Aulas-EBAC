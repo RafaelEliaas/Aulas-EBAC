{
 "cells": [
  {
   "cell_type": "markdown",
   "metadata": {},
   "source": [
    "Definição: aplica uma função em todos os elementos de uma coleção (list,dict,etc) e retorna todos os elementos transformados"
   ]
  },
  {
   "cell_type": "code",
   "execution_count": 1,
   "metadata": {},
   "outputs": [
    {
     "name": "stdout",
     "output_type": "stream",
     "text": [
      "[1, 8, 27]\n"
     ]
    }
   ],
   "source": [
    "numeros = [1,2,3]\n",
    "\n",
    "numeros_ao_cubo = map (lambda num : num ** 3, numeros)\n",
    "\n",
    "print(list(numeros_ao_cubo))"
   ]
  },
  {
   "cell_type": "markdown",
   "metadata": {},
   "source": [
    "Função de alta ordem\n",
    "exemplo:função lambda para extrair provedor de email (1 parâmetro)"
   ]
  },
  {
   "cell_type": "code",
   "execution_count": 7,
   "metadata": {},
   "outputs": [],
   "source": [
    "emails = ['rafaelelias42@gmail.com','rafautsu22@zulu.com','rafaelelias422@yahoo.com']\n",
    "extrair_provedor_email = lambda email:email.split(sep='@')[-1]"
   ]
  },
  {
   "cell_type": "code",
   "execution_count": 9,
   "metadata": {},
   "outputs": [
    {
     "name": "stdout",
     "output_type": "stream",
     "text": [
      "['gmail.com', 'zulu.com', 'yahoo.com']\n"
     ]
    }
   ],
   "source": [
    "provedores = []\n",
    "for email in emails:\n",
    "    provedor = extrair_provedor_email(email)\n",
    "    provedores.append(provedor)\n",
    "print (provedores)"
   ]
  },
  {
   "cell_type": "code",
   "execution_count": 10,
   "metadata": {},
   "outputs": [
    {
     "name": "stdout",
     "output_type": "stream",
     "text": [
      "<map object at 0x0000023FA8D019C0>\n"
     ]
    }
   ],
   "source": [
    "provedores = map(extrair_provedor_email, emails)\n",
    "print(provedores)"
   ]
  },
  {
   "cell_type": "code",
   "execution_count": 11,
   "metadata": {},
   "outputs": [
    {
     "name": "stdout",
     "output_type": "stream",
     "text": [
      "['gmail.com', 'zulu.com', 'yahoo.com']\n"
     ]
    }
   ],
   "source": [
    "provedores = list(map(extrair_provedor_email,emails))\n",
    "print(provedores)"
   ]
  },
  {
   "cell_type": "code",
   "execution_count": 13,
   "metadata": {},
   "outputs": [
    {
     "name": "stdout",
     "output_type": "stream",
     "text": [
      "['gmail.com', 'zulu.com', 'yahoo.com']\n"
     ]
    }
   ],
   "source": [
    "provedores = map(lambda email:email.split(sep='@')[-1],emails)\n",
    "print(list(provedores))"
   ]
  },
  {
   "cell_type": "markdown",
   "metadata": {},
   "source": [
    "Exemplo: investimeto (mais de 1 parâmetro)"
   ]
  },
  {
   "cell_type": "code",
   "execution_count": 14,
   "metadata": {},
   "outputs": [
    {
     "name": "stdout",
     "output_type": "stream",
     "text": [
      "[1628.89, 2593.74, 4045.56]\n"
     ]
    }
   ],
   "source": [
    "anos = [10, 10, 10]\n",
    "taxa_de_juros = [0.05, 0.10, 0.15]\n",
    "valores_iniciais = [1000, 1000, 1000]\n",
    "\n",
    "def retorno (valor_inicial: float, taxa_de_juros: float, anos:  int) -> float:\n",
    "    valor_final = valor_inicial \n",
    "    for ano in range(1, anos+1):\n",
    "        valor_final = valor_final * (1+taxa_de_juros)\n",
    "    return round(valor_final, 2)\n",
    "cenarios = list(map(retorno, valores_iniciais, taxa_de_juros, anos))\n",
    "print (cenarios)    "
   ]
  }
 ],
 "metadata": {
  "kernelspec": {
   "display_name": "Python 3",
   "language": "python",
   "name": "python3"
  },
  "language_info": {
   "codemirror_mode": {
    "name": "ipython",
    "version": 3
   },
   "file_extension": ".py",
   "mimetype": "text/x-python",
   "name": "python",
   "nbconvert_exporter": "python",
   "pygments_lexer": "ipython3",
   "version": "3.12.2"
  }
 },
 "nbformat": 4,
 "nbformat_minor": 2
}
