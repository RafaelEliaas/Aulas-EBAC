{
 "cells": [
  {
   "cell_type": "markdown",
   "metadata": {},
   "source": [
    "1 - Laços de repetição:\n",
    "esse primeiro código a baixo contem um erro de Sintaxe. O objetivo da atividade passada pela EBAC é descobrir o que tem de errado no código e corrigi-lo"
   ]
  },
  {
   "cell_type": "code",
   "execution_count": null,
   "metadata": {},
   "outputs": [],
   "source": [
    "credito = {'123': 750, '456': 812, '789': 980}\n",
    "for chave, valor in credito.items():\n",
    "print(f'Para o documento {chave}, ' + \\\n",
    "f'o valor do escore de crédito é {valor}.\"\n",
    ")"
   ]
  },
  {
   "cell_type": "markdown",
   "metadata": {},
   "source": [
    "Minha resposta: realizei a correta indentação e corrigi o uso das aspas: Se iniciava com aspas simples e finalizava com aspas duplas"
   ]
  },
  {
   "cell_type": "code",
   "execution_count": null,
   "metadata": {},
   "outputs": [],
   "source": [
    "credito = {'123': 750, '456': 812, '789': 980}\n",
    "for chave, valor in credito.items():\n",
    "    print(f'Para o documento {chave}, ' + \\\n",
    "          f'o valor do escore de crédito é {valor}.')"
   ]
  },
  {
   "cell_type": "markdown",
   "metadata": {},
   "source": [
    "2 - Funções: \n",
    "Código a baixo defeituoso"
   ]
  },
  {
   "cell_type": "code",
   "execution_count": null,
   "metadata": {},
   "outputs": [],
   "source": [
    "def pi() --> float:\n",
    "return 3.14159265359\n",
    "pi = pi()\n",
    "print(pi)"
   ]
  },
  {
   "cell_type": "markdown",
   "metadata": {},
   "source": [
    "Minha resposta: Ao indicar o tipo de resposta que a função \"pi\" retornaria, foi utilizado duas vezes o caractere \"-\". Fiz a alteração para apenas um \"-\", e refiz a indentação do código"
   ]
  },
  {
   "cell_type": "code",
   "execution_count": 5,
   "metadata": {},
   "outputs": [
    {
     "name": "stdout",
     "output_type": "stream",
     "text": [
      "3.14159265359\n"
     ]
    }
   ],
   "source": [
    "def pi() -> float:\n",
    "    return 3.14159265359\n",
    "pi = pi()\n",
    "print(pi)"
   ]
  },
  {
   "cell_type": "markdown",
   "metadata": {},
   "source": [
    "3 - Programação Funcional:\n",
    "código a baixo defeituoso"
   ]
  },
  {
   "cell_type": "code",
   "execution_count": null,
   "metadata": {},
   "outputs": [],
   "source": [
    "emails = [\n",
    "'andre.perez@gmail.com',\n",
    "'andre.perez@live.com',\n",
    "'andre.perez@yahoo.com'\n",
    "]\n",
    "provedor_da_google = lambda email: 'gmail in email\n",
    "emails_google = filter(provedor_da_google, emails)\n",
    "print(list(emails_google))"
   ]
  },
  {
   "cell_type": "markdown",
   "metadata": {},
   "source": [
    "Minha resposta: apenas a falta de fechar a str \"gmail\" com aspas simples "
   ]
  },
  {
   "cell_type": "code",
   "execution_count": 10,
   "metadata": {},
   "outputs": [
    {
     "name": "stdout",
     "output_type": "stream",
     "text": [
      "['andre.perez@gmail.com']\n"
     ]
    }
   ],
   "source": [
    "emails = [\n",
    "        'andre.perez@gmail.com',\n",
    "        'andre.perez@live.com',\n",
    "        'andre.perez@yahoo.com'\n",
    "         ]\n",
    "provedor_da_google = lambda email: 'gmail' in email\n",
    "emails_google = filter(provedor_da_google, emails)\n",
    "print(list(emails_google))"
   ]
  },
  {
   "cell_type": "markdown",
   "metadata": {},
   "source": [
    "4 - Programação orientada a objetos\n",
    "A baixo, código defeituoso "
   ]
  },
  {
   "cell_type": "code",
   "execution_count": null,
   "metadata": {},
   "outputs": [],
   "source": [
    "class Pessoa(object):\n",
    "def __init__(self nome: str, idade: int, documento: str):\n",
    "self.nome = nome\n",
    "self.idade = idade\n",
    "self.documento = documento\n",
    "andre = Pessoa(nome=\"Andre\", idade=30, document=\"123\")"
   ]
  },
  {
   "cell_type": "markdown",
   "metadata": {},
   "source": [
    "Minha resposta: Primeiramente arrumei a indentação do código, acrescentei o \"o\" que estava faltando em \"documento\" na linha 6. Criei outro método que retornaria uma str com os dados da Pessoa. Declarei a Variável \"andre\" (professor que ministrou a aula)como Pessoa, e usei o comando print para ter acesso aos dados da variável e saber se o código rodou como o esperado"
   ]
  },
  {
   "cell_type": "code",
   "execution_count": 38,
   "metadata": {},
   "outputs": [
    {
     "name": "stdout",
     "output_type": "stream",
     "text": [
      "Nome: Andre, idade: 30, documento: 123\n"
     ]
    }
   ],
   "source": [
    "class Pessoa (object):\n",
    "    \n",
    "    def __init__ (self, nome: str, idade: int, documento: str):\n",
    "        self.nome = nome\n",
    "        self.idade = idade\n",
    "        self.documento = documento\n",
    "    def __str__ (self) -> str:\n",
    "        return f'Nome: {self.nome}, idade: {self.idade}, documento: {self.documento}' \n",
    "    \n",
    "andre = Pessoa(nome=\"Andre\", idade=30, documento=\"123\")    \n",
    "print(andre)  \n",
    "    \n"
   ]
  }
 ],
 "metadata": {
  "kernelspec": {
   "display_name": "Python 3",
   "language": "python",
   "name": "python3"
  },
  "language_info": {
   "codemirror_mode": {
    "name": "ipython",
    "version": 3
   },
   "file_extension": ".py",
   "mimetype": "text/x-python",
   "name": "python",
   "nbconvert_exporter": "python",
   "pygments_lexer": "ipython3",
   "version": "3.12.2"
  }
 },
 "nbformat": 4,
 "nbformat_minor": 2
}
