{
 "cells": [
  {
   "cell_type": "markdown",
   "metadata": {},
   "source": [
    "Neste exercicio trabalharemos com o arquivo csv contendo dados de crédito:"
   ]
  },
  {
   "cell_type": "markdown",
   "metadata": {},
   "source": [
    "Definindo o arquivo csv"
   ]
  },
  {
   "cell_type": "code",
   "execution_count": 1,
   "metadata": {},
   "outputs": [],
   "source": [
    "import csv\n",
    "\n",
    "with open('credito.csv', 'w', newline='') as csvfile:\n",
    "    fieldnames = ['id_vendedor', 'valor_emprestimos', 'quantidade_emprestimos', 'data']\n",
    "    writer = csv.DictWriter(csvfile, fieldnames=fieldnames)\n",
    "    \n",
    "    writer.writeheader()\n",
    "    writer.writerow({'id_vendedor': '104271', 'valor_emprestimos': '448.0', 'quantidade_emprestimos': '1', 'data': '20161208'})\n",
    "    writer.writerow({'id_vendedor': '21476', 'valor_emprestimos': '826.7', 'quantidade_emprestimos': '3', 'data': '20161208'})\n",
    "    writer.writerow({'id_vendedor': '87440', 'valor_emprestimos': '313.6', 'quantidade_emprestimos': '3', 'data': '20161208'})\n",
    "    writer.writerow({'id_vendedor': '15980', 'valor_emprestimos': '808.0', 'quantidade_emprestimos': '6', 'data': '20161208'})\n",
    "    writer.writerow({'id_vendedor': '215906', 'valor_emprestimos': '2212.0', 'quantidade_emprestimos': '5', 'data': '20161208'})\n",
    "    writer.writerow({'id_vendedor': '33696', 'valor_emprestimos': '2771.3', 'quantidade_emprestimos': '2', 'data': '20161208'})\n",
    "    writer.writerow({'id_vendedor': '33893', 'valor_emprestimos': '2240.0', 'quantidade_emprestimos': '3', 'data': '20161208'})\n",
    "    writer.writerow({'id_vendedor': '214946', 'valor_emprestimos': '4151.0', 'quantidade_emprestimos': '18', 'data': '20161208'})\n",
    "    writer.writerow({'id_vendedor': '123974', 'valor_emprestimos': '2021.95', 'quantidade_emprestimos': '2', 'data': '20161208'})\n",
    "    writer.writerow({'id_vendedor': '225870', 'valor_emprestimos': '4039.0', 'quantidade_emprestimos': '2', 'data': '20161208'})\n"
   ]
  },
  {
   "cell_type": "markdown",
   "metadata": {},
   "source": [
    "Parte 2: O código abaixo deve calcular o total emprestado por cada vendedor mas está \"estourando\" a exceção ValueError devido a um erro no conjunto de dados. Utilize a estrutura try-catch para garantir que o código seja executado com sucesso"
   ]
  },
  {
   "cell_type": "markdown",
   "metadata": {},
   "source": [
    "Código sem modificação:"
   ]
  },
  {
   "cell_type": "code",
   "execution_count": null,
   "metadata": {},
   "outputs": [],
   "source": [
    "def valor_total_emprestimo(valor: float, quantidade: int) -> float:\n",
    "return valor * quantidade\n",
    "emprestimos = []\n",
    "with open(file='./credito.csv', mode='r', encoding='utf8') as fp:\n",
    "fp.readline() # cabeçalho\n",
    "linha = fp.readline()\n",
    "while linha:\n",
    "linha_emprestimo = {}\n",
    "linha_elementos = linha.strip().split(sep=',')\n",
    "linha_emprestimo['id_vendedor'] = linha_elementos[0]\n",
    "linha_emprestimo['valor_emprestimos'] = float(linha_elementos[1])\n",
    "linha_emprestimo['quantidade_emprestimos'] = int(linha_elementos[2])\n",
    "linha_emprestimo['data'] = linha_elementos[3]\n",
    "emprestimos.append(linha_emprestimo)\n",
    "linha = fp.readline()\n",
    "emprestimos_total = []\n",
    "for emprestimo in emprestimos:\n",
    "valor_total = valor_total_emprestimo(\n",
    "valor=emprestimo['valor_emprestimos'],\n",
    "quantidade=emprestimo['quantidade_emprestimos']\n",
    ")\n",
    "emprestimos_total.append({emprestimo['id_vendedor']: valor_total})\n",
    "for emprestimo_total in emprestimos_total:\n",
    "print(emprestimo_total)\n",
    "Parte 3: O resultado final deve ser a impressão da seguinte lista\n",
    "{'104271': 448.0}\n",
    "{'21476': 2480.1000000000004}\n",
    "{'87440': 940.8000000000001}\n",
    "{'15980': 4848.0}\n",
    "{'215906': 11060.0}\n",
    "{'33696': 5542.6}\n",
    "{'33893': 6720.0}\n",
    "{'214946': 74718.0}\n",
    "{'123974': 4043.9}\n",
    "{'225870': 8078.0}"
   ]
  },
  {
   "cell_type": "markdown",
   "metadata": {},
   "source": [
    "Código que modifiquei: Foi feita a indentação de código e adicicionado os comandos try e except. Tive de usar a ajuda do chat gpt, pois estava imprimindo o resultado de forma aleatória e repetidas vezes (era um problema na indentação do código)"
   ]
  },
  {
   "cell_type": "code",
   "execution_count": 20,
   "metadata": {},
   "outputs": [
    {
     "name": "stdout",
     "output_type": "stream",
     "text": [
      "{'104271': 448.0}\n",
      "{'21476': 2480.1000000000004}\n",
      "{'87440': 940.8000000000001}\n",
      "{'15980': 4848.0}\n",
      "{'215906': 11060.0}\n",
      "{'33696': 5542.6}\n",
      "{'33893': 6720.0}\n",
      "{'214946': 74718.0}\n",
      "{'123974': 4043.9}\n",
      "{'225870': 8078.0}\n"
     ]
    }
   ],
   "source": [
    "\n",
    "\n",
    "def valor_total_emprestimo(valor: float, quantidade: int) -> float:\n",
    "    return valor * quantidade\n",
    "\n",
    "emprestimos = []\n",
    "   \n",
    "with open (file='./credito.csv', mode='r', encoding='utf8') as fp:\n",
    "    fp.readline() # cabeçalho\n",
    "    linha = fp.readline()\n",
    "    while linha:\n",
    "        try:\n",
    "            linha_emprestimo = {}\n",
    "            linha_elementos = linha.strip().split(sep=',')\n",
    "            linha_emprestimo['id_vendedor'] = linha_elementos[0]\n",
    "            linha_emprestimo['valor_emprestimos'] = float(linha_elementos[1])\n",
    "            linha_emprestimo['quantidade_emprestimos'] = int(linha_elementos[2])\n",
    "            linha_emprestimo['data'] = linha_elementos[3]\n",
    "        except IndexError as exc:\n",
    "            print (exc)\n",
    "        else:    \n",
    "                emprestimos.append(linha_emprestimo)\n",
    "        linha = fp.readline()\n",
    "\n",
    "emprestimos_total = []\n",
    "        \n",
    "for emprestimo in emprestimos:\n",
    "    valor_total = valor_total_emprestimo(\n",
    "    valor=emprestimo['valor_emprestimos'],quantidade=emprestimo['quantidade_emprestimos'])\n",
    "    emprestimos_total.append({emprestimo['id_vendedor']: valor_total})\n",
    "    \n",
    "for emprestimo_total in emprestimos_total:\n",
    "    print(emprestimo_total)"
   ]
  }
 ],
 "metadata": {
  "kernelspec": {
   "display_name": "Python 3",
   "language": "python",
   "name": "python3"
  },
  "language_info": {
   "codemirror_mode": {
    "name": "ipython",
    "version": 3
   },
   "file_extension": ".py",
   "mimetype": "text/x-python",
   "name": "python",
   "nbconvert_exporter": "python",
   "pygments_lexer": "ipython3",
   "version": "3.12.2"
  }
 },
 "nbformat": 4,
 "nbformat_minor": 2
}
