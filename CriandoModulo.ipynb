{
 "cells": [
  {
   "cell_type": "markdown",
   "metadata": {},
   "source": [
    "Classe arquivo csv"
   ]
  },
  {
   "cell_type": "code",
   "execution_count": 1,
   "metadata": {},
   "outputs": [],
   "source": [
    "class ArquivoCSV(object):\n",
    "    def __init__(self, arquivo:str):\n",
    "        self.arquivo = arquivo\n",
    "        self.conteudo = self._extrair_conteudo()\n",
    "        self.colunas = self._extrair_nome_colunas()\n",
    "       \n",
    "    def _extrair_conteudo(self):\n",
    "        conteudo = None\n",
    "        with open (file=self.arquivo, mode ='r', encoding='utf8') as arquivo:\n",
    "            conteudo = arquivo.readlines()\n",
    "        return conteudo\n",
    "    \n",
    "    def _extrair_nome_colunas(self):\n",
    "        return self.conteudo[0].strip().split(sep=',')      \n",
    "    \n",
    "    def extrair_coluna(self, indice_coluna:str):\n",
    "        coluna = list()  \n",
    "        for linha in self.conteudo:\n",
    "            conteudo_linha = linha.strip().split(sep=',')\n",
    "            coluna.append(conteudo_linha[indice_coluna])\n",
    "        coluna.pop(0)\n",
    "        return coluna   "
   ]
  },
  {
   "cell_type": "code",
   "execution_count": 3,
   "metadata": {},
   "outputs": [],
   "source": [
    "arquivo_banco=ArquivoCSV(arquivo=('./banco.csv'))"
   ]
  },
  {
   "cell_type": "code",
   "execution_count": 5,
   "metadata": {},
   "outputs": [
    {
     "name": "stdout",
     "output_type": "stream",
     "text": [
      "['primary', 'secondary', 'tertiary', 'tertiary', 'secondary', 'tertiary', 'tertiary', 'secondary', 'tertiary', 'primary']\n"
     ]
    }
   ],
   "source": [
    "education = arquivo_banco.extrair_coluna(indice_coluna=3)\n",
    "print (education)"
   ]
  },
  {
   "cell_type": "markdown",
   "metadata": {},
   "source": [
    "Criar um módulo (arquivo) com o nome arquivo_csv.py com o código da classe Arquivo.csv"
   ]
  },
  {
   "cell_type": "markdown",
   "metadata": {},
   "source": [
    " Vamos importar a classe  arquivoCSV do módulo (arquivo) arquico_csv.py"
   ]
  },
  {
   "cell_type": "code",
   "execution_count": 6,
   "metadata": {},
   "outputs": [],
   "source": [
    "from arquivo_csv import ArquivoCSV\n",
    "\n",
    "arquivo_banco_modulo = ArquivoCSV(arquivo='./banco.csv')"
   ]
  },
  {
   "cell_type": "code",
   "execution_count": 7,
   "metadata": {},
   "outputs": [
    {
     "name": "stdout",
     "output_type": "stream",
     "text": [
      "['primary', 'secondary', 'tertiary', 'tertiary', 'secondary', 'tertiary', 'tertiary', 'secondary', 'tertiary', 'primary']\n"
     ]
    }
   ],
   "source": [
    "education=arquivo_banco_modulo.extrair_coluna(indice_coluna=3)\n",
    "print (education)"
   ]
  }
 ],
 "metadata": {
  "kernelspec": {
   "display_name": "Python 3",
   "language": "python",
   "name": "python3"
  },
  "language_info": {
   "codemirror_mode": {
    "name": "ipython",
    "version": 3
   },
   "file_extension": ".py",
   "mimetype": "text/x-python",
   "name": "python",
   "nbconvert_exporter": "python",
   "pygments_lexer": "ipython3",
   "version": "3.12.2"
  }
 },
 "nbformat": 4,
 "nbformat_minor": 2
}
