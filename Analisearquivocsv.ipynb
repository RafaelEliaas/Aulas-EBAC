{
 "cells": [
  {
   "cell_type": "markdown",
   "metadata": {},
   "source": [
    "Criando arquivo csv para análise de dados"
   ]
  },
  {
   "cell_type": "code",
   "execution_count": 7,
   "metadata": {},
   "outputs": [],
   "source": [
    "import csv\n",
    "\n",
    "with open('telecom.csv', 'w', newline='') as csvfile:\n",
    "    fieldnames = ['customerID', 'PaymentMethod', 'MonthlyCharges', 'TotalCharges', 'Churn']\n",
    "    writer = csv.DictWriter(csvfile, fieldnames=fieldnames)\n",
    "    \n",
    "    writer.writeheader()\n",
    "    writer.writerow({'customerID': '7010-BRBUU', 'PaymentMethod': 'Credit card (automatic)', 'MonthlyCharges': '24.1', 'TotalCharges': '1734.65', 'Churn': 'No'})\n",
    "    writer.writerow({'customerID': '9688-YGXVR', 'PaymentMethod': 'Credit card (automatic)', 'MonthlyCharges': '88.15', 'TotalCharges': '3973.2', 'Churn': 'No'})\n",
    "    writer.writerow({'customerID': '9286-DOJGF', 'PaymentMethod': 'Bank transfer (automatic)', 'MonthlyCharges': '74.95', 'TotalCharges': '2869.85', 'Churn': 'Yes'})\n",
    "    writer.writerow({'customerID': '6994-KERXL', 'PaymentMethod': 'Electronic check', 'MonthlyCharges': '55.9', 'TotalCharges': '238.5', 'Churn': 'No'})\n",
    "    writer.writerow({'customerID': '2181-UAESM', 'PaymentMethod': 'Electronic check', 'MonthlyCharges': '53.45', 'TotalCharges': '119.5', 'Churn': 'No'})\n",
    "    writer.writerow({'customerID': '4312-GVYNH', 'PaymentMethod': 'Bank transfer (automatic)', 'MonthlyCharges': '49.85', 'TotalCharges': '3370.2', 'Churn': 'No'})\n",
    "    writer.writerow({'customerID': '2495-KZNFB', 'PaymentMethod': 'Electronic check', 'MonthlyCharges': '90.65', 'TotalCharges': '2989.6', 'Churn': 'No'})\n",
    "    writer.writerow({'customerID': '4367-NHWMM', 'PaymentMethod': 'Mailed check', 'MonthlyCharges': '24.9', 'TotalCharges': '24.9', 'Churn': 'No'})\n",
    "    writer.writerow({'customerID': '8898-KASCD', 'PaymentMethod': 'Mailed check', 'MonthlyCharges': '35.55', 'TotalCharges': '1309.15', 'Churn': 'No'})"
   ]
  },
  {
   "cell_type": "markdown",
   "metadata": {},
   "source": [
    "Código para fazer uma leitura simples de dado... esse código será melhorado no final, acrescentando os comandos 'try', 'except','raise'. Uma vez que esta aula é sobre tratamento de erros!"
   ]
  },
  {
   "cell_type": "code",
   "execution_count": 10,
   "metadata": {},
   "outputs": [],
   "source": [
    "from functools import reduce\n",
    "\n",
    "def processar_faturas(nome_arquivo:str) ->float:\n",
    "    \n",
    "    faturas=[]\n",
    "    \n",
    "    with open (file=nome_arquivo, mode='r', encoding='utf8') as arquivo:\n",
    "        linha = arquivo.readline() #lê o cabeçalho\n",
    "        linha = arquivo.readline() #lê a primeira linha\n",
    "        while linha:\n",
    "            fatura = float(linha.strip().split(sep=',')[-3]) \n",
    "            faturas.append(fatura)\n",
    "            linha = arquivo.readline()\n",
    "            \n",
    "    total_a_pagar = reduce(lambda x,y: x + y, faturas)\n",
    "    total_a_pagar = round(total_a_pagar,2)    \n",
    "    return (total_a_pagar)        \n",
    "        "
   ]
  },
  {
   "cell_type": "code",
   "execution_count": 11,
   "metadata": {},
   "outputs": [
    {
     "name": "stdout",
     "output_type": "stream",
     "text": [
      "497.5\n"
     ]
    }
   ],
   "source": [
    "total_a_pagar = processar_faturas (nome_arquivo='./telecom.csv')\n",
    "print (total_a_pagar)"
   ]
  },
  {
   "cell_type": "markdown",
   "metadata": {},
   "source": [
    "Explicação da primeira parte do bloco de código:\n",
    "\n",
    "def processar_faturas(nome_arquivo:str) ->float: #definindo uma função chamada \"processar faturas\", essa função vai receber o nome do arquivo (que será uma string) e retornará um resultado float\n",
    "\n",
    "faturas=[] #definindo lista chamada \"faturas\"\n",
    "\n",
    "with open (file=nome_arquivo, mode='r', encoding='utf8') as arquivo: #with open para brir o arquivo no modo de leitura (r de reading) e dando o apelido para o arquivo de \"arquivo\"\n",
    "\n",
    "linha = arquivo.readline() #lê o cabeçalho\n",
    "linha = arquivo.readline() #lê a primeira linha\n",
    "\n",
    "while linha: #enquanto linha\n",
    "\n",
    "\n",
    "            fatura = float(linha=strip().split(sep=','[-3])) #convertemos a fatura para float (o arquivo esta em str),o comando strip tira o caractere de /n que faz com que o python entenda q a gente trocou de linha, o comando split serve para quebrar a str no caracter de separação ',', o mando [-3] é para pegar a 3 coluna da direita para esquerda\n",
    "\n",
    "\n",
    "            faturas.append(fatura) # através do método appent estamos colocando a variável 'faturas' dentro da lista    \n",
    "    \n",
    "    \n",
    "             linha = arquivo.readline() #lê a proxima linha e continua o ciclo até ler todas as linhas do arquivo\n",
    "\n"
   ]
  },
  {
   "cell_type": "markdown",
   "metadata": {},
   "source": [
    "explicação da ultima parte do bloco de código\n",
    "\n",
    "    total_a_pagar = reduce(lambda x,y: x + y, faturas) #precisamos somar todas a faturas e o método 'reduce', irá somar de 2 a 2 até que tenha somado todas as faturas da coluna faturas\n",
    "    \n",
    "    total_a_pagar = round(total_a_pagar,2) #o método 'round'  irá arredondar o valor para duas casas decimais  \n",
    "\n",
    "    return (total_a_pagar) #retornará o total a pagar"
   ]
  },
  {
   "cell_type": "markdown",
   "metadata": {},
   "source": [
    "Exemplos de manipulação de erros com a estrutura try-catch-finally-else"
   ]
  },
  {
   "cell_type": "code",
   "execution_count": 4,
   "metadata": {},
   "outputs": [
    {
     "name": "stdout",
     "output_type": "stream",
     "text": [
      "Lista de anos é menor do que o valor escolhido. Espera-se valor entre 0 e 2\n"
     ]
    }
   ],
   "source": [
    "anos = [2021,2022,2023]\n",
    "\n",
    "try:\n",
    "    ano_atual=anos[3]\n",
    "    print(ano_atual)\n",
    "    \n",
    "except IndexError:\n",
    "    print(f'Lista de anos é menor do que o valor escolhido. Espera-se valor entre 0 e {str(len(anos)-1)}')\n",
    "except Exception as exc:\n",
    "    print(exc)    "
   ]
  },
  {
   "cell_type": "markdown",
   "metadata": {},
   "source": [
    "Passar o erro para frente com a estrutura raise"
   ]
  },
  {
   "cell_type": "code",
   "execution_count": null,
   "metadata": {},
   "outputs": [],
   "source": [
    "anos = [2021,2022,2023]\n",
    "\n",
    "try:\n",
    "    ano_atual = anos[3]\n",
    "    print(ano_atual)\n",
    "except IndexError as exc:\n",
    "    raise Exception (f'Lista de anos é menor do que o valor escolhido. Espera-se valor entre 0 e {str(len(anos)-1)}')    \n",
    "except Exception as exc:\n",
    "    raise exc"
   ]
  },
  {
   "cell_type": "markdown",
   "metadata": {},
   "source": [
    "Agora melhoraremos o código de análise de dados (o que está la no início) utilizando as tecnicas acima"
   ]
  },
  {
   "cell_type": "code",
   "execution_count": 9,
   "metadata": {},
   "outputs": [],
   "source": [
    "from functools import reduce\n",
    "\n",
    "def processar_faturas(nome_arquivo:str) ->float:\n",
    "    \n",
    "    faturas=[]\n",
    "    \n",
    "    with open (file=nome_arquivo, mode='r', encoding='utf8') as arquivo:\n",
    "        linha = arquivo.readline() #lê o cabeçalho\n",
    "        linha = arquivo.readline() #lê a primeira linha\n",
    "        while linha:\n",
    "            try:\n",
    "                fatura = float(linha.strip().split(sep=',')[-3]) \n",
    "            except ValueError as exc:\n",
    "                raise ValueError (f'Falha ao processar as faturas devido ao seguinte erro: \"{exc}\"')\n",
    "            else:\n",
    "                faturas.append(fatura)\n",
    "            linha = arquivo.readline()\n",
    "            \n",
    "    total_a_pagar = reduce(lambda x,y: x + y, faturas)\n",
    "    total_a_pagar = round(total_a_pagar,2)    \n",
    "    return (total_a_pagar)        "
   ]
  },
  {
   "cell_type": "code",
   "execution_count": 10,
   "metadata": {},
   "outputs": [
    {
     "name": "stdout",
     "output_type": "stream",
     "text": [
      "497.5\n"
     ]
    }
   ],
   "source": [
    "try:\n",
    "    total_a_pagar = processar_faturas(nome_arquivo='./telecom.csv')\n",
    "except Exception as exc:\n",
    "    print (exc)\n",
    "else:\n",
    "    print(total_a_pagar)"
   ]
  }
 ],
 "metadata": {
  "kernelspec": {
   "display_name": "Python 3",
   "language": "python",
   "name": "python3"
  },
  "language_info": {
   "codemirror_mode": {
    "name": "ipython",
    "version": 3
   },
   "file_extension": ".py",
   "mimetype": "text/x-python",
   "name": "python",
   "nbconvert_exporter": "python",
   "pygments_lexer": "ipython3",
   "version": "3.12.2"
  }
 },
 "nbformat": 4,
 "nbformat_minor": 2
}
