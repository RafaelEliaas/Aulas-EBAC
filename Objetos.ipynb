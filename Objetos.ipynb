{
 "cells": [
  {
   "cell_type": "markdown",
   "metadata": {},
   "source": [
    "Definição de objeto: o objeto é uma instância de umaa classe"
   ]
  },
  {
   "cell_type": "code",
   "execution_count": 17,
   "metadata": {},
   "outputs": [],
   "source": [
    "from time import sleep\n",
    "\n",
    "class Pessoas(object):\n",
    "    def __init__(self, nome:str,idade:int,documento:str = None):\n",
    "        self.nome = nome\n",
    "        self.idade = idade\n",
    "        self.documento = documento\n",
    "        \n",
    "    def dormir (self, horas: int) -> None:\n",
    "        for hora in range(1,horas+1):\n",
    "            print(f'Dormindo por {hora} horas')\n",
    "            sleep(1)\n",
    "            \n",
    "    def falar (self,texto:str) -> None:\n",
    "        print(texto)\n",
    "        \n",
    "    def __str__(self) -> str:\n",
    "        return f'{self.nome}, {self.idade} anos e documento número {self.documento}'"
   ]
  },
  {
   "cell_type": "code",
   "execution_count": 18,
   "metadata": {},
   "outputs": [],
   "source": [
    "rafael = Pessoas(nome = 'Rafael Elias', idade = 24, documento = '123')\n",
    "said = Pessoas(nome = 'Said Gabriel', idade = 21, documento = '321')\n",
    "pedro = Pessoas(nome = 'Pedro Lucas', idade = 22, documento = '213')"
   ]
  },
  {
   "cell_type": "markdown",
   "metadata": {},
   "source": [
    "Manipulação\n",
    "*Atributos"
   ]
  },
  {
   "cell_type": "code",
   "execution_count": 19,
   "metadata": {},
   "outputs": [
    {
     "name": "stdout",
     "output_type": "stream",
     "text": [
      "Rafael Elias\n"
     ]
    }
   ],
   "source": [
    "print (rafael.nome)"
   ]
  },
  {
   "cell_type": "code",
   "execution_count": 20,
   "metadata": {},
   "outputs": [
    {
     "name": "stdout",
     "output_type": "stream",
     "text": [
      "Rafael Elias é maior de idade\n"
     ]
    }
   ],
   "source": [
    "def maior_de_idade(idade:int) -> bool:\n",
    "    return idade >= 18\n",
    "if maior_de_idade(idade=rafael.idade):\n",
    "    print(f'{rafael.nome} é maior de idade')"
   ]
  },
  {
   "cell_type": "code",
   "execution_count": 21,
   "metadata": {},
   "outputs": [
    {
     "name": "stdout",
     "output_type": "stream",
     "text": [
      "750\n"
     ]
    }
   ],
   "source": [
    "score_credito = {'123':750, '321':812, '213':327}\n",
    "score = score_credito[rafael.documento]\n",
    "print (score)\n"
   ]
  },
  {
   "cell_type": "markdown",
   "metadata": {},
   "source": [
    "Métodos:"
   ]
  },
  {
   "cell_type": "code",
   "execution_count": 22,
   "metadata": {},
   "outputs": [
    {
     "name": "stdout",
     "output_type": "stream",
     "text": [
      "Dormindo por 1 horas\n",
      "Dormindo por 2 horas\n"
     ]
    }
   ],
   "source": [
    "rafael.dormir(horas=2)"
   ]
  },
  {
   "cell_type": "code",
   "execution_count": 23,
   "metadata": {},
   "outputs": [
    {
     "name": "stdout",
     "output_type": "stream",
     "text": [
      "Olá mundo\n"
     ]
    }
   ],
   "source": [
    "rafael.falar(texto='Olá mundo')"
   ]
  },
  {
   "cell_type": "code",
   "execution_count": 24,
   "metadata": {},
   "outputs": [
    {
     "name": "stdout",
     "output_type": "stream",
     "text": [
      "Rafael Elias, 24 anos e documento número 123\n"
     ]
    }
   ],
   "source": [
    "print(rafael)"
   ]
  },
  {
   "cell_type": "code",
   "execution_count": 25,
   "metadata": {},
   "outputs": [
    {
     "data": {
      "text/plain": [
       "__main__.Pessoas"
      ]
     },
     "execution_count": 25,
     "metadata": {},
     "output_type": "execute_result"
    }
   ],
   "source": [
    "type(rafael)"
   ]
  },
  {
   "cell_type": "markdown",
   "metadata": {},
   "source": [
    "Exemplos: Tudo no Python é um objeto!"
   ]
  },
  {
   "cell_type": "code",
   "execution_count": 27,
   "metadata": {},
   "outputs": [
    {
     "name": "stdout",
     "output_type": "stream",
     "text": [
      "<class 'int'>\n",
      "<class 'float'>\n",
      "<class 'str'>\n",
      "<class 'bool'>\n",
      "<class 'NoneType'>\n",
      "<class 'list'>\n",
      "<class 'dict'>\n",
      "<class 'function'>\n"
     ]
    }
   ],
   "source": [
    "tipos = [type(10), type(1.1), type('EBAC'), type(True), type(None), type([1,2,3]), type({'janeiro':1}), type (lambda x:x) ]\n",
    "for tipo in tipos:\n",
    "    print (tipo)"
   ]
  },
  {
   "cell_type": "code",
   "execution_count": 28,
   "metadata": {},
   "outputs": [
    {
     "name": "stdout",
     "output_type": "stream",
     "text": [
      "RAFAEL ELIAS\n"
     ]
    }
   ],
   "source": [
    "nome = 'Rafael Elias'\n",
    "print (nome.upper())"
   ]
  },
  {
   "cell_type": "code",
   "execution_count": 29,
   "metadata": {},
   "outputs": [
    {
     "name": "stdout",
     "output_type": "stream",
     "text": [
      "0.07\n"
     ]
    }
   ],
   "source": [
    "juros = [0.02, 0.07, 0.15]\n",
    "print (juros.pop(1))"
   ]
  },
  {
   "cell_type": "markdown",
   "metadata": {},
   "source": [
    "Classe arquivo CSV: exemplo completo de código"
   ]
  },
  {
   "cell_type": "code",
   "execution_count": 47,
   "metadata": {},
   "outputs": [],
   "source": [
    "class ArquivoCSV(object):\n",
    "    def __init__(self, arquivo:str):\n",
    "        self.arquivo = arquivo\n",
    "        self.conteudo = self._extrair_conteudo()\n",
    "        self.colunas = self._extrair_nome_colunas()\n",
    "       \n",
    "    def _extrair_conteudo(self):\n",
    "        conteudo = None\n",
    "        with open (file=self.arquivo, mode ='r', encoding='utf8') as arquivo:\n",
    "            conteudo = arquivo.readlines()\n",
    "        return conteudo\n",
    "    \n",
    "    def _extrair_nome_colunas(self):\n",
    "        return self.conteudo[0].strip().split(sep=',')      \n",
    "    \n",
    "    def extrair_coluna(self, indice_coluna:str):\n",
    "        coluna = list()  \n",
    "        for linha in self.conteudo:\n",
    "            conteudo_linha = linha.strip().split(sep=',')\n",
    "            coluna.append(conteudo_linha[indice_coluna])\n",
    "        coluna.pop(0)\n",
    "        return coluna   "
   ]
  },
  {
   "cell_type": "code",
   "execution_count": 48,
   "metadata": {},
   "outputs": [
    {
     "name": "stdout",
     "output_type": "stream",
     "text": [
      "['age', 'job', 'marital', 'education', 'default', 'balance', 'housing', 'loan']\n"
     ]
    }
   ],
   "source": [
    "arquivo_banco = ArquivoCSV(arquivo='./banco.csv')\n",
    "\n",
    "print(arquivo_banco.colunas)"
   ]
  },
  {
   "cell_type": "markdown",
   "metadata": {},
   "source": [
    "Extraindo coluna de 'job'"
   ]
  },
  {
   "cell_type": "code",
   "execution_count": 49,
   "metadata": {},
   "outputs": [
    {
     "name": "stdout",
     "output_type": "stream",
     "text": [
      "['unemployed', 'services', 'management', 'management', 'blue-collar', 'management', 'self-employed', 'technician', 'entrepreneur', 'services']\n"
     ]
    }
   ],
   "source": [
    "job = arquivo_banco.extrair_coluna(indice_coluna=1)\n",
    "print (job)"
   ]
  },
  {
   "cell_type": "markdown",
   "metadata": {},
   "source": [
    "Extraindo coluna de Education:        "
   ]
  },
  {
   "cell_type": "code",
   "execution_count": 50,
   "metadata": {},
   "outputs": [
    {
     "name": "stdout",
     "output_type": "stream",
     "text": [
      "['primary', 'secondary', 'tertiary', 'tertiary', 'secondary', 'tertiary', 'tertiary', 'secondary', 'tertiary', 'primary']\n"
     ]
    }
   ],
   "source": [
    "education = arquivo_banco.extrair_coluna(indice_coluna=3)\n",
    "print (education)"
   ]
  }
 ],
 "metadata": {
  "kernelspec": {
   "display_name": "Python 3",
   "language": "python",
   "name": "python3"
  },
  "language_info": {
   "codemirror_mode": {
    "name": "ipython",
    "version": 3
   },
   "file_extension": ".py",
   "mimetype": "text/x-python",
   "name": "python",
   "nbconvert_exporter": "python",
   "pygments_lexer": "ipython3",
   "version": "3.12.2"
  }
 },
 "nbformat": 4,
 "nbformat_minor": 2
}
