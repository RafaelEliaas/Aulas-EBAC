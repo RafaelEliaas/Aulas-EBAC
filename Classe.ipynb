{
 "cells": [
  {
   "cell_type": "markdown",
   "metadata": {},
   "source": [
    "Classe é uma receita para a criação de objetos"
   ]
  },
  {
   "cell_type": "code",
   "execution_count": null,
   "metadata": {},
   "outputs": [],
   "source": [
    "class Pessoas (object):\n",
    "    def __init__ (self):\n",
    "        pass"
   ]
  },
  {
   "cell_type": "markdown",
   "metadata": {},
   "source": [
    "Atributos: representam as caracteristicas da classe"
   ]
  },
  {
   "cell_type": "code",
   "execution_count": null,
   "metadata": {},
   "outputs": [],
   "source": [
    "class Pessoas(object):\n",
    "    def __init__(self, nome:str,idade:int,documento:str):\n",
    "        self.nome = nome\n",
    "        self.idade = idade\n",
    "        self.documento = documento"
   ]
  },
  {
   "cell_type": "markdown",
   "metadata": {},
   "source": [
    "Métodos: representam as ações daa classe"
   ]
  },
  {
   "cell_type": "code",
   "execution_count": 2,
   "metadata": {},
   "outputs": [],
   "source": [
    "from time import sleep\n",
    "\n",
    "class Pessoas(object):\n",
    "    def __init__(self, nome:str,idade:int,documento:str = None):\n",
    "        self.nome = nome\n",
    "        self.idade = idade\n",
    "        self.documento = documento\n",
    "        \n",
    "def dormir (self,horas:int) -> None:\n",
    "    for hora in range (1,horas+1):\n",
    "        print(f'Dormindo por {hora} horas')\n",
    "        sleep(1)\n",
    "        \n",
    "def falar (self,texto:str) -> None:\n",
    "    print(texto)\n",
    "    \n",
    "def __str__(self) -> str:\n",
    "    return f'{self.nome}, {self.idade} anos e documento número {self.documento}'\n",
    "        "
   ]
  }
 ],
 "metadata": {
  "kernelspec": {
   "display_name": "Python 3",
   "language": "python",
   "name": "python3"
  },
  "language_info": {
   "codemirror_mode": {
    "name": "ipython",
    "version": 3
   },
   "file_extension": ".py",
   "mimetype": "text/x-python",
   "name": "python",
   "nbconvert_exporter": "python",
   "pygments_lexer": "ipython3",
   "version": "3.12.2"
  }
 },
 "nbformat": 4,
 "nbformat_minor": 2
}
