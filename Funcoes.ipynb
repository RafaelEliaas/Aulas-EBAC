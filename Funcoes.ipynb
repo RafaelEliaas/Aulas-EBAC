{
 "cells": [
  {
   "cell_type": "markdown",
   "metadata": {},
   "source": [
    "Uma função é um bloco de código que só é executado quando chamado"
   ]
  },
  {
   "cell_type": "code",
   "execution_count": 1,
   "metadata": {},
   "outputs": [
    {
     "name": "stdout",
     "output_type": "stream",
     "text": [
      "Fala pessoal, meu nome é Rafael Elias\n"
     ]
    }
   ],
   "source": [
    "def imprime (mensagem:str):\n",
    "    print (mensagem)\n",
    "    \n",
    "texto = 'Fala pessoal, meu nome é Rafael Elias'\n",
    "\n",
    "imprime (mensagem=texto)    "
   ]
  },
  {
   "cell_type": "markdown",
   "metadata": {},
   "source": [
    "Toda função retorna pelo menos um valor, se não for especificado, retorna o valor nulo"
   ]
  },
  {
   "cell_type": "code",
   "execution_count": 2,
   "metadata": {},
   "outputs": [
    {
     "name": "stdout",
     "output_type": "stream",
     "text": [
      "Rafael Elias\n",
      "RAFAEL ELIAS\n"
     ]
    }
   ],
   "source": [
    "def maiusculo (texto) -> str:\n",
    "    text_maiusculo = texto.upper()\n",
    "    return text_maiusculo\n",
    "nome = 'Rafael Elias'\n",
    "print (nome)\n",
    "\n",
    "nome_maiusculo = maiusculo (texto=nome)\n",
    "print (nome_maiusculo)"
   ]
  },
  {
   "cell_type": "code",
   "execution_count": 8,
   "metadata": {},
   "outputs": [
    {
     "name": "stdout",
     "output_type": "stream",
     "text": [
      "rafaelelias42\n",
      "gmail.com\n"
     ]
    }
   ],
   "source": [
    "def extrair_email_provedor (email:str) -> (str,str):\n",
    "    email_separado = email.split(sep='@')\n",
    "    usuario = email_separado [0]\n",
    "    provedor = email_separado [1]\n",
    "    return usuario, provedor\n",
    "email = ('rafaelelias42@gmail.com')\n",
    "\n",
    "usuario,provedor=extrair_email_provedor(email=email)\n",
    "\n",
    "print (usuario)\n",
    "print (provedor)    \n",
    "    "
   ]
  },
  {
   "cell_type": "markdown",
   "metadata": {},
   "source": [
    "Parâmetros: valores que passamos na chamada da função"
   ]
  },
  {
   "cell_type": "code",
   "execution_count": 10,
   "metadata": {},
   "outputs": [
    {
     "name": "stdout",
     "output_type": "stream",
     "text": [
      "3.14159265359\n"
     ]
    }
   ],
   "source": [
    "def pi () -> float:\n",
    "    return 3.14159265359\n",
    "\n",
    "pi=pi ()\n",
    "print (pi)"
   ]
  },
  {
   "cell_type": "code",
   "execution_count": 11,
   "metadata": {},
   "outputs": [
    {
     "name": "stdout",
     "output_type": "stream",
     "text": [
      "3.14159265359\n"
     ]
    }
   ],
   "source": [
    "def imprime_pi() -> None:\n",
    "    print (3.14159265359)\n",
    "    return None\n",
    "imprime_pi()"
   ]
  },
  {
   "cell_type": "markdown",
   "metadata": {},
   "source": [
    "Função com parâmetro:"
   ]
  },
  {
   "cell_type": "code",
   "execution_count": 15,
   "metadata": {},
   "outputs": [],
   "source": [
    "def escreva_arquivo (nome:str, cabecalho:str, conteudos:list) ->bool:\n",
    "    try:\n",
    "        with open (file = 'nome', mode='w', encoding='utf8') as fp:\n",
    "         linha = cabecalho + '\\n'\n",
    "         fp.write(linha)\n",
    "         for conteudo in conteudos:\n",
    "            linha = str(conteudo) + '\\n'\n",
    "            fp.write(linha) \n",
    "                \n",
    "    except Exception as exc:\n",
    "        \n",
    "        print (exc)\n",
    "        return False\n",
    "    \n",
    "    return True\n",
    "        \n",
    "    "
   ]
  },
  {
   "cell_type": "code",
   "execution_count": 16,
   "metadata": {},
   "outputs": [
    {
     "name": "stdout",
     "output_type": "stream",
     "text": [
      "True\n"
     ]
    }
   ],
   "source": [
    "nome ='Idades-funcao.csv'\n",
    "cabecalho = 'idade'\n",
    "conteudos = [24, 35, 28, 12, 36, 49, 50]\n",
    "\n",
    "escreveu_com_sucesso = escreva_arquivo(nome=nome, cabecalho=cabecalho, conteudos=conteudos)\n",
    "print (escreveu_com_sucesso)\n"
   ]
  },
  {
   "cell_type": "markdown",
   "metadata": {},
   "source": [
    "Motivação dada durante a aula daa EBAC sobre funções:"
   ]
  },
  {
   "cell_type": "code",
   "execution_count": 17,
   "metadata": {},
   "outputs": [
    {
     "name": "stdout",
     "output_type": "stream",
     "text": [
      "Para o valor inicial de R$ 1000.0 e uma taxa de juros anual de 0.05, em 10 anos, você terá 1628.89\n",
      "Para o valor inicial de R$ 1020.0 e uma taxa de juros anual de 0.03, em 10 anos, você terá 1370.79\n"
     ]
    }
   ],
   "source": [
    "def juros_compostos_anual (valor_inicial:float, taxa_de_juros_anual:float, anos:str) ->float:\n",
    "    valor_final = valor_inicial\n",
    "    for ano in range(1, anos+1):\n",
    "        valor_final = valor_final*(1 + taxa_de_juros_anual)\n",
    "    valor_final=round(valor_final,2)\n",
    "    print(f'Para o valor inicial de R$ {valor_inicial} e uma taxa de juros anual de {taxa_de_juros_anual}, em {anos} anos, você terá {valor_final}')\n",
    "    return valor_final\n",
    "\n",
    "valor_inicial, taxa_de_juros_anual, anos = 1000.00, 0.05, 10\n",
    "valor_final = juros_compostos_anual(valor_inicial=valor_inicial, taxa_de_juros_anual=taxa_de_juros_anual, anos=anos)\n",
    "\n",
    "valor_inicial, taxa_de_juros_anual, anos = 1020.00, 0.03, 10\n",
    "valor_final = juros_compostos_anual(valor_inicial=valor_inicial, taxa_de_juros_anual=taxa_de_juros_anual, anos=anos)   "
   ]
  }
 ],
 "metadata": {
  "kernelspec": {
   "display_name": "Python 3",
   "language": "python",
   "name": "python3"
  },
  "language_info": {
   "codemirror_mode": {
    "name": "ipython",
    "version": 3
   },
   "file_extension": ".py",
   "mimetype": "text/x-python",
   "name": "python",
   "nbconvert_exporter": "python",
   "pygments_lexer": "ipython3",
   "version": "3.12.2"
  }
 },
 "nbformat": 4,
 "nbformat_minor": 2
}
