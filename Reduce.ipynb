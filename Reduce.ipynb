{
 "cells": [
  {
   "cell_type": "markdown",
   "metadata": {},
   "source": [
    "Definição: Aplica uma função a trodos o elementos de uma coleção, dois a dois, e retorna apenas 1 elemento"
   ]
  },
  {
   "cell_type": "code",
   "execution_count": 1,
   "metadata": {},
   "outputs": [
    {
     "name": "stdout",
     "output_type": "stream",
     "text": [
      "6\n"
     ]
    }
   ],
   "source": [
    "numeros = [1,2,3,]\n",
    "from functools import reduce\n",
    "\n",
    "soma = reduce (lambda x,y: x+y, numeros)\n",
    "print (soma)"
   ]
  },
  {
   "cell_type": "code",
   "execution_count": 2,
   "metadata": {},
   "outputs": [
    {
     "name": "stdout",
     "output_type": "stream",
     "text": [
      "11\n"
     ]
    }
   ],
   "source": [
    "def maior_entre (primeiro: int, segundo:int) -> int:\n",
    "    return primeiro if primeiro >= segundo else segundo\n",
    "\n",
    "primeiro = 10\n",
    "segundo = 11\n",
    "\n",
    "print (maior_entre(primeiro=primeiro, segundo=segundo))"
   ]
  },
  {
   "cell_type": "code",
   "execution_count": 4,
   "metadata": {},
   "outputs": [
    {
     "name": "stdout",
     "output_type": "stream",
     "text": [
      "0.5142659295220288\n"
     ]
    }
   ],
   "source": [
    "from random import random \n",
    "\n",
    "print (random())"
   ]
  },
  {
   "cell_type": "code",
   "execution_count": 5,
   "metadata": {},
   "outputs": [
    {
     "name": "stdout",
     "output_type": "stream",
     "text": [
      "[12, 38, 8, 79, 59, 67, 100, 0, 54, 50, 41, 34, 55, 14, 47, 44, 9, 64, 7, 60, 69, 66, 53, 40, 12, 23, 70, 14, 61, 89, 88, 88, 61, 4, 81, 89, 60, 7, 60, 52, 46, 86, 97, 52, 53, 1, 67, 86, 3, 74, 73, 46, 82, 27, 57, 5, 55, 34, 69, 79, 14, 47, 90, 22, 20, 69, 70, 95, 11, 9, 39, 86, 10, 20, 86, 28, 53, 67, 79, 84, 91, 51, 60, 79, 66, 54, 73, 93, 93, 83, 76, 69, 28, 22, 8, 67, 56, 69, 5, 25]\n"
     ]
    }
   ],
   "source": [
    "from random import random \n",
    "numeros = [round(100 * random()) for _ in range( 0,100 )]\n",
    "print (numeros)"
   ]
  },
  {
   "cell_type": "code",
   "execution_count": 6,
   "metadata": {},
   "outputs": [
    {
     "name": "stdout",
     "output_type": "stream",
     "text": [
      "100\n"
     ]
    }
   ],
   "source": [
    "maior_numero = reduce(maior_entre, numeros)\n",
    "print(maior_numero)"
   ]
  },
  {
   "cell_type": "code",
   "execution_count": 7,
   "metadata": {},
   "outputs": [
    {
     "name": "stdout",
     "output_type": "stream",
     "text": [
      "100\n"
     ]
    }
   ],
   "source": [
    "maior_numero = reduce(lambda primeiro, segundo: primeiro if primeiro >= segundo else segundo, numeros)\n",
    "print(maior_numero)"
   ]
  },
  {
   "cell_type": "markdown",
   "metadata": {},
   "source": [
    "Compossibilidade (combina todos os métodos funcionais)"
   ]
  },
  {
   "cell_type": "markdown",
   "metadata": {},
   "source": [
    "eleve os números ao quadrado:"
   ]
  },
  {
   "cell_type": "code",
   "execution_count": 8,
   "metadata": {},
   "outputs": [],
   "source": [
    "numeros_ao_quadrado = map(lambda numero: numero ** 2, numeros)"
   ]
  },
  {
   "cell_type": "markdown",
   "metadata": {},
   "source": [
    "Filtra os números ímpares"
   ]
  },
  {
   "cell_type": "code",
   "execution_count": 9,
   "metadata": {},
   "outputs": [],
   "source": [
    "numeros_impares = filter(lambda numero: numero % 2 == 0, numeros_ao_quadrado )"
   ]
  },
  {
   "cell_type": "markdown",
   "metadata": {},
   "source": [
    "soma todos os números"
   ]
  },
  {
   "cell_type": "code",
   "execution_count": 10,
   "metadata": {},
   "outputs": [
    {
     "name": "stdout",
     "output_type": "stream",
     "text": [
      "<map object at 0x0000025616822920>\n"
     ]
    }
   ],
   "source": [
    "soma_numeros = map(lambda x,y: x+y, numeros_impares)\n",
    "print (soma_numeros)"
   ]
  },
  {
   "cell_type": "markdown",
   "metadata": {},
   "source": [
    "Todos os métodos de uma vez"
   ]
  },
  {
   "cell_type": "code",
   "execution_count": 12,
   "metadata": {},
   "outputs": [
    {
     "name": "stdout",
     "output_type": "stream",
     "text": [
      "158068\n"
     ]
    }
   ],
   "source": [
    "soma_numeros = reduce(lambda x,y: x+y,filter (lambda numero: numero %2 == 0,map (lambda numero:numero **2, numeros)))\n",
    "print (soma_numeros)"
   ]
  }
 ],
 "metadata": {
  "kernelspec": {
   "display_name": "Python 3",
   "language": "python",
   "name": "python3"
  },
  "language_info": {
   "codemirror_mode": {
    "name": "ipython",
    "version": 3
   },
   "file_extension": ".py",
   "mimetype": "text/x-python",
   "name": "python",
   "nbconvert_exporter": "python",
   "pygments_lexer": "ipython3",
   "version": "3.12.2"
  }
 },
 "nbformat": 4,
 "nbformat_minor": 2
}
