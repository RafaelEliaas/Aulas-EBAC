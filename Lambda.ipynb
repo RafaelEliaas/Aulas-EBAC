{
 "cells": [
  {
   "cell_type": "markdown",
   "metadata": {},
   "source": [
    "Definição função Lambda: Função anônima (sem nome) com bloco de código super enxuto e que pode ser salva em uma variável. Em geral é utilizada com outros métodos funcionais como map, filter e reduce"
   ]
  },
  {
   "cell_type": "markdown",
   "metadata": {},
   "source": [
    "Exemplo de funçãao lambda para extrair email:"
   ]
  },
  {
   "cell_type": "code",
   "execution_count": 1,
   "metadata": {},
   "outputs": [
    {
     "name": "stdout",
     "output_type": "stream",
     "text": [
      "rafaelelias42@gmail.com\n",
      "gmail.com\n"
     ]
    }
   ],
   "source": [
    "extrair_provedor_email = lambda email: email.split(sep='@')[-1]\n",
    "\n",
    "email = 'rafaelelias42@gmail.com'\n",
    "print (email)\n",
    "\n",
    "provedor_email = extrair_provedor_email(email)\n",
    "print (provedor_email)"
   ]
  },
  {
   "cell_type": "markdown",
   "metadata": {},
   "source": [
    "Função lambda com estruturas condicionais"
   ]
  },
  {
   "cell_type": "code",
   "execution_count": 2,
   "metadata": {},
   "outputs": [
    {
     "name": "stdout",
     "output_type": "stream",
     "text": [
      "O número 2 é par\n",
      "O número 4 é par\n",
      "O número 6 é par\n",
      "O número 8 é par\n"
     ]
    }
   ],
   "source": [
    "numero_e_par = lambda numero: True if numero % 2 == 0 else False\n",
    "\n",
    "numeros = range(1,10)\n",
    "\n",
    "for numero in numeros:\n",
    "    if numero_e_par (numero) == True:\n",
    "        print(f'O número {numero} é par')"
   ]
  },
  {
   "cell_type": "markdown",
   "metadata": {},
   "source": [
    "Função de alta ordem:\n",
    "São funções que recebem ou retorna outra função como parâmetro ou retorno"
   ]
  },
  {
   "cell_type": "markdown",
   "metadata": {},
   "source": [
    "Exemplo: juros compostos dinãmico"
   ]
  },
  {
   "cell_type": "code",
   "execution_count": 4,
   "metadata": {},
   "outputs": [
    {
     "name": "stdout",
     "output_type": "stream",
     "text": [
      "1050.0\n",
      "1100.0\n"
     ]
    }
   ],
   "source": [
    "def retorno (juros:float):\n",
    "    return lambda investimento:investimento * (1 + juros)\n",
    "\n",
    "\n",
    "retorno_5_porcento = retorno(juros=0.05)\n",
    "retorno_10_porcento = retorno(juros=0.10)\n",
    "\n",
    "valor_final = retorno_5_porcento (investimento = 1000)\n",
    "print (valor_final)\n",
    "\n",
    "valor_final = retorno_10_porcento (investimento = 1000)\n",
    "print (valor_final)\n"
   ]
  },
  {
   "cell_type": "code",
   "execution_count": 5,
   "metadata": {},
   "outputs": [
    {
     "name": "stdout",
     "output_type": "stream",
     "text": [
      "1628.8946267774422\n"
     ]
    }
   ],
   "source": [
    "anos = 10\n",
    "valor_inicial = 1000\n",
    "valor_final = valor_inicial\n",
    "\n",
    "for ano in range(1, anos+1):\n",
    "    valor_final = retorno_5_porcento(investimento=valor_final)\n",
    "    \n",
    "valor_inicial = round(valor_final, 2)\n",
    "\n",
    "print(valor_final)    "
   ]
  },
  {
   "cell_type": "code",
   "execution_count": 6,
   "metadata": {},
   "outputs": [
    {
     "name": "stdout",
     "output_type": "stream",
     "text": [
      "2593.742460100001\n"
     ]
    }
   ],
   "source": [
    "anos = 10\n",
    "valor_inicial = 1000\n",
    "valor_final = valor_inicial\n",
    "\n",
    "for ano in range(1, anos+1):\n",
    "    valor_final = retorno_10_porcento(investimento=valor_final)\n",
    "    \n",
    "valor_inicial = round(valor_final, 2)\n",
    "\n",
    "print(valor_final)"
   ]
  }
 ],
 "metadata": {
  "kernelspec": {
   "display_name": "Python 3",
   "language": "python",
   "name": "python3"
  },
  "language_info": {
   "codemirror_mode": {
    "name": "ipython",
    "version": 3
   },
   "file_extension": ".py",
   "mimetype": "text/x-python",
   "name": "python",
   "nbconvert_exporter": "python",
   "pygments_lexer": "ipython3",
   "version": "3.12.2"
  }
 },
 "nbformat": 4,
 "nbformat_minor": 2
}
