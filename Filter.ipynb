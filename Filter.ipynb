{
 "cells": [
  {
   "cell_type": "markdown",
   "metadata": {},
   "source": [
    "Definição: aplica uma funnção lógica (que retorna um booleano) em todos os elementos de uma coleção (list,dict,etc) e retorna apenas aqueles que resultam em verdadeiro (True)"
   ]
  },
  {
   "cell_type": "code",
   "execution_count": 3,
   "metadata": {},
   "outputs": [
    {
     "name": "stdout",
     "output_type": "stream",
     "text": [
      "[1, 3]\n"
     ]
    }
   ],
   "source": [
    "numeros = [1, 2, 3]\n",
    "numeros_impares = filter(lambda num: num % 2 != 0, numeros)\n",
    "print(list(numeros_impares)) "
   ]
  },
  {
   "cell_type": "markdown",
   "metadata": {},
   "source": [
    "Função de alta ordem\n",
    "Exemplo: função lambda para extrair provedor emails"
   ]
  },
  {
   "cell_type": "code",
   "execution_count": 5,
   "metadata": {},
   "outputs": [],
   "source": [
    "emails = ['rafaelelias42@gmail.com','rafautsu22@zulu.com','rafaelelias422@yahoo.com']\n",
    "provedor_google = lambda email: 'gmail.com' in email"
   ]
  },
  {
   "cell_type": "code",
   "execution_count": 6,
   "metadata": {},
   "outputs": [
    {
     "name": "stdout",
     "output_type": "stream",
     "text": [
      "['rafaelelias42@gmail.com']\n"
     ]
    }
   ],
   "source": [
    "emails_google = []\n",
    "for email in emails:\n",
    "    if provedor_google(email) == True:\n",
    "        emails_google.append(email)\n",
    "        \n",
    "print (emails_google)        "
   ]
  },
  {
   "cell_type": "code",
   "execution_count": 7,
   "metadata": {},
   "outputs": [
    {
     "name": "stdout",
     "output_type": "stream",
     "text": [
      "<filter object at 0x000001448B88AF20>\n"
     ]
    }
   ],
   "source": [
    "emails_google = filter(provedor_google, emails)\n",
    "print (emails_google)"
   ]
  },
  {
   "cell_type": "code",
   "execution_count": 8,
   "metadata": {},
   "outputs": [
    {
     "name": "stdout",
     "output_type": "stream",
     "text": [
      "['rafaelelias42@gmail.com']\n"
     ]
    }
   ],
   "source": [
    "emails_google = list(filter(provedor_google, emails))\n",
    "print (emails_google)"
   ]
  },
  {
   "cell_type": "markdown",
   "metadata": {},
   "source": [
    "Função lambda dentro da função filter"
   ]
  },
  {
   "cell_type": "code",
   "execution_count": 11,
   "metadata": {},
   "outputs": [
    {
     "name": "stdout",
     "output_type": "stream",
     "text": [
      "['rafaelelias42@gmail.com']\n"
     ]
    }
   ],
   "source": [
    "emails_google = filter(lambda email:'gmail.com' in email, emails)\n",
    "print (list(emails_google))"
   ]
  }
 ],
 "metadata": {
  "kernelspec": {
   "display_name": "Python 3",
   "language": "python",
   "name": "python3"
  },
  "language_info": {
   "codemirror_mode": {
    "name": "ipython",
    "version": 3
   },
   "file_extension": ".py",
   "mimetype": "text/x-python",
   "name": "python",
   "nbconvert_exporter": "python",
   "pygments_lexer": "ipython3",
   "version": "3.12.2"
  }
 },
 "nbformat": 4,
 "nbformat_minor": 2
}
